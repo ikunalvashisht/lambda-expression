{
 "cells": [
  {
   "cell_type": "markdown",
   "metadata": {},
   "source": [
    "# lambda expression"
   ]
  },
  {
   "cell_type": "markdown",
   "metadata": {},
   "source": [
    "In Python, anonymous function means that a function is without a name. As we already know that def keyword is used to define the normal functions and the lambda keyword is used to create anonymous functions.\n",
    "syntax :3r\n",
    "lambda arguments: expression"
   ]
  },
  {
   "cell_type": "markdown",
   "metadata": {},
   "source": [
    "# lambda general form:\n",
    "lambda arg1, arg2, ...argN : expression using arguments"
   ]
  },
  {
   "cell_type": "markdown",
   "metadata": {},
   "source": [
    "lambda function with no arguments"
   ]
  },
  {
   "cell_type": "code",
   "execution_count": 29,
   "metadata": {},
   "outputs": [
    {
     "name": "stdout",
     "output_type": "stream",
     "text": [
      "10\n"
     ]
    }
   ],
   "source": [
    "# Assign variable to lambda expression.\n",
    "x = lambda: sum(range(1, 5))\n",
    "\n",
    "# Invoke lambda expression.\n",
    "y = x()\n",
    "print(y)"
   ]
  },
  {
   "cell_type": "code",
   "execution_count": 34,
   "metadata": {},
   "outputs": [
    {
     "name": "stdout",
     "output_type": "stream",
     "text": [
      "125\n"
     ]
    }
   ],
   "source": [
    "\n",
    "def cube(y): \n",
    "    return y*y*y; \n",
    "\n",
    "\n",
    "print(cube(5)) \n",
    "#g = lambda x: x*x*x \n",
    "#print(g(7)) \n",
    " \n"
   ]
  },
  {
   "cell_type": "code",
   "execution_count": 15,
   "metadata": {},
   "outputs": [
    {
     "name": "stdout",
     "output_type": "stream",
     "text": [
      "343\n"
     ]
    }
   ],
   "source": [
    "\n",
    "g = lambda x: x*x*x \n",
    "print(g(7)) \n"
   ]
  },
  {
   "cell_type": "code",
   "execution_count": 16,
   "metadata": {},
   "outputs": [
    {
     "data": {
      "text/plain": [
       "343"
      ]
     },
     "execution_count": 16,
     "metadata": {},
     "output_type": "execute_result"
    }
   ],
   "source": [
    "\n",
    "g = lambda x: x*x*x \n",
    "(g(7)) "
   ]
  },
  {
   "cell_type": "code",
   "execution_count": 17,
   "metadata": {},
   "outputs": [],
   "source": [
    "def hello (c=\"kunal\"):\n",
    "    print(\"hello\",c)\n",
    "    "
   ]
  },
  {
   "cell_type": "code",
   "execution_count": 21,
   "metadata": {},
   "outputs": [
    {
     "name": "stdout",
     "output_type": "stream",
     "text": [
      "hello kunal\n"
     ]
    }
   ],
   "source": [
    "hello ( )"
   ]
  },
  {
   "cell_type": "code",
   "execution_count": 23,
   "metadata": {},
   "outputs": [
    {
     "data": {
      "text/plain": [
       "'kunal sagar pranav'"
      ]
     },
     "execution_count": 23,
     "metadata": {},
     "output_type": "execute_result"
    }
   ],
   "source": [
    "mz = (lambda a = 'kunal', b = ' sagar', c = ' pranav': a + b + c)\n",
    "mz()\n",
    " "
   ]
  },
  {
   "cell_type": "code",
   "execution_count": 26,
   "metadata": {},
   "outputs": [
    {
     "name": "stdout",
     "output_type": "stream",
     "text": [
      "183\n"
     ]
    }
   ],
   "source": [
    "a= lambda q: q+171\n",
    "print(a(12))"
   ]
  },
  {
   "cell_type": "markdown",
   "metadata": {},
   "source": [
    "# filter"
   ]
  },
  {
   "cell_type": "code",
   "execution_count": 39,
   "metadata": {},
   "outputs": [
    {
     "name": "stdout",
     "output_type": "stream",
     "text": [
      "[5, 7, 97, 77, 23, 73, 61]\n"
     ]
    }
   ],
   "source": [
    "# Python code to illustrate \n",
    "# filter() with lambda() \n",
    "li = [5, 7, 22, 97, 54, 62, 77, 23, 73, 61] \n",
    "final_list = list(filter(lambda x: (x%2 != 0) , li)) \n",
    "print(final_list) "
   ]
  },
  {
   "cell_type": "markdown",
   "metadata": {},
   "source": [
    "# map"
   ]
  },
  {
   "cell_type": "code",
   "execution_count": 31,
   "metadata": {},
   "outputs": [
    {
     "name": "stdout",
     "output_type": "stream",
     "text": [
      "[10, 14, 44, 194, 108, 124, 154, 46, 146, 122]\n"
     ]
    }
   ],
   "source": [
    "# Python code to illustrate \n",
    "# map() with lambda() \n",
    "# to get double of a list. \n",
    "li = [5, 7, 22, 97, 54, 62, 77, 23, 73, 61] \n",
    "final_list = list(map(lambda x: x*2 , li)) \n",
    "print(final_list) \n"
   ]
  },
  {
   "cell_type": "markdown",
   "metadata": {},
   "source": [
    "# reduce"
   ]
  },
  {
   "cell_type": "code",
   "execution_count": 62,
   "metadata": {},
   "outputs": [
    {
     "name": "stdout",
     "output_type": "stream",
     "text": [
      "193\n"
     ]
    }
   ],
   "source": [
    "# Python code to illustrate \n",
    "# reduce() with lambda() \n",
    "# to get sum of a list \n",
    "from functools import reduce\n",
    "li = [5, 8, 10, 20, 50, 100] \n",
    "sum = reduce((lambda x, y: x + y), li) \n",
    "print (sum) \n"
   ]
  },
  {
   "cell_type": "markdown",
   "metadata": {},
   "source": [
    "# Why lambda?\n",
    " there are certain situations where it makes writing code a bit easier, and the written code a bit cleaner. What kind of situations? … Situations in which (a) the function is fairly simple, and (b) it is going to be used only once."
   ]
  },
  {
   "cell_type": "code",
   "execution_count": 16,
   "metadata": {},
   "outputs": [
    {
     "name": "stdout",
     "output_type": "stream",
     "text": [
      "6\n",
      "9\n",
      "12\n",
      "22\n"
     ]
    }
   ],
   "source": [
    " \n",
    "def f1(x): return x * 2\n",
    "\n",
    "def f2(x): return x * 3\n",
    "\n",
    "def f3(x): return x * 4\n",
    "\n",
    " # Reference by name\n",
    "L = [f1, f2, f3]\n",
    " for f in L:\n",
    "    print(f(3))\n",
    "\n",
    "print(L[0](11))\n",
    "\n",
    " "
   ]
  },
  {
   "cell_type": "code",
   "execution_count": 12,
   "metadata": {},
   "outputs": [
    {
     "name": "stdout",
     "output_type": "stream",
     "text": [
      "6\n",
      "9\n",
      "12\n",
      "22\n"
     ]
    }
   ],
   "source": [
    "L = [lambda x: x * 2,\n",
    "         lambda x: x * 3,\n",
    "         lambda x: x * 4]\n",
    "for f in L:\n",
    "    print(f(3))\n",
    "    \n",
    "print(L[0](11))\n"
   ]
  },
  {
   "cell_type": "markdown",
   "metadata": {},
   "source": [
    "# We can use dictionaries doing the same thing:"
   ]
  },
  {
   "cell_type": "code",
   "execution_count": 9,
   "metadata": {},
   "outputs": [
    {
     "data": {
      "text/plain": [
       "10000"
      ]
     },
     "execution_count": 9,
     "metadata": {},
     "output_type": "execute_result"
    }
   ],
   "source": [
    " \n",
    "def f1(x): return x ** 2\n",
    "\n",
    "def f2(x): return x ** 3\n",
    "\n",
    "def f3(x): return x ** 4\n",
    "\n",
    "key = 'quadratic'\n",
    "{'square': f1, 'cubic': f2, 'quadratic': f3}[key](10) "
   ]
  },
  {
   "cell_type": "code",
   "execution_count": 10,
   "metadata": {},
   "outputs": [
    {
     "data": {
      "text/plain": [
       "100"
      ]
     },
     "execution_count": 10,
     "metadata": {},
     "output_type": "execute_result"
    }
   ],
   "source": [
    " key = 'square'\n",
    "{'square': (lambda x: x ** 2),\n",
    "     'cubic': (lambda x: x ** 3),\n",
    "     'quadratic': (lambda x: x ** 4)}[key](10)\n"
   ]
  },
  {
   "cell_type": "markdown",
   "metadata": {},
   "source": [
    "# Nested ?\n",
    "Nested. A lambda can call another. This can simplify complex computations—we assign names to parts of a computation. The order the lambdas appear in the file does not matter.\n",
    "With nested lambdas:\n",
    "Recursion can occur. This may result in a RuntimeError: maximum recursion depth "
   ]
  },
  {
   "cell_type": "code",
   "execution_count": 59,
   "metadata": {},
   "outputs": [
    {
     "name": "stdout",
     "output_type": "stream",
     "text": [
      "8\n",
      "12\n"
     ]
    }
   ],
   "source": [
    "add_two = lambda n: n + 2\n",
    "multiply_add_two = lambda n: add_two(n * 2) # Call lambda in lambda.\n",
    "\n",
    "print(multiply_add_two(3))\n",
    "print(multiply_add_two(5))"
   ]
  },
  {
   "cell_type": "markdown",
   "metadata": {},
   "source": [
    "# zip function"
   ]
  },
  {
   "cell_type": "markdown",
   "metadata": {},
   "source": [
    "The purpose of zip() is to map the similar index of multiple containers so that they can be used just using as single entity.\n",
    "\n"
   ]
  },
  {
   "cell_type": "markdown",
   "metadata": {},
   "source": [
    "# The syntax of zip() is:\n",
    "\n",
    "zip(*iterables)\n"
   ]
  },
  {
   "cell_type": "code",
   "execution_count": 29,
   "metadata": {},
   "outputs": [
    {
     "name": "stdout",
     "output_type": "stream",
     "text": [
      "{'kunal': 1, 'sagar': 2, 'varun': 3}\n"
     ]
    }
   ],
   "source": [
    "l1 = [\"kunal\",\"sagar\",\"varun\",\"pranav\"]\n",
    "l2 = (1,2,3)\n",
    "l3 = [30,40,50]\n",
    "result = zip(l1,l2)\n",
    "resultlist = dict(result) #The set() constructor constructs a Python set from the given iterable and returns it.\n",
    "print(resultlist)"
   ]
  },
  {
   "cell_type": "code",
   "execution_count": 2,
   "metadata": {},
   "outputs": [
    {
     "name": "stdout",
     "output_type": "stream",
     "text": [
      "{(3, 'THREE'), (1, 'ONE'), (2, 'TWO')}\n",
      "\n",
      "[(1, 'one', 'ONE'), (2, 'two', 'TWO')]\n"
     ]
    }
   ],
   "source": [
    "numbersList = [1, 2, 3]\n",
    "strList = ['one', 'two']\n",
    "numbersTuple = ('ONE', 'TWO', 'THREE', 'FOUR')\n",
    "\n",
    "result = zip(numbersList, numbersTuple)\n",
    "\n",
    "# Converting to set\n",
    "resultSet = set(result)\n",
    "print(resultSet)\n",
    "\n",
    "result = zip(numbersList, strList, numbersTuple)\n",
    "\n",
    "print()\n",
    "\n",
    "# Converting to list\n",
    "resultSet = list(result)\n",
    "print(resultSet)"
   ]
  },
  {
   "cell_type": "code",
   "execution_count": 3,
   "metadata": {},
   "outputs": [
    {
     "name": "stdout",
     "output_type": "stream",
     "text": [
      "blue ... sky\n",
      "red ... sunset\n",
      "green ... lawn\n",
      "white ... pillow\n"
     ]
    }
   ],
   "source": [
    "items1 = [\"blue\", \"red\", \"green\", \"white\"]\n",
    "items2 = [\"sky\", \"sunset\", \"lawn\", \"pillow\"]\n",
    "\n",
    "# Zip the two lists and access pairs together.\n",
    "for item1, item2 in zip(items1, items2):\n",
    "    print(item1, \"...\", item2)"
   ]
  },
  {
   "cell_type": "code",
   "execution_count": 4,
   "metadata": {},
   "outputs": [
    {
     "name": "stdout",
     "output_type": "stream",
     "text": [
      "10 11\n",
      "20 21\n",
      "30 31\n"
     ]
    }
   ],
   "source": [
    "#Python program that uses zip, unequal lengths\n",
    "list1 = [10, 20, 30, 40]\n",
    "list2 = [11, 21, 31]\n",
    "\n",
    "# Zip the two lists.\n",
    "result = zip(list1, list2)\n",
    "\n",
    "# The zipped result is only 3 elements long.\n",
    "# ... The fourth element of list1 was discarded.\n",
    "for element1, element2 in result:\n",
    "    print(element1, element2)"
   ]
  },
  {
   "cell_type": "markdown",
   "metadata": {},
   "source": [
    "# How to unzip?\n",
    "Unzipping means converting the zipped values back to the individual self as they were. This is done with the help of “*” operator."
   ]
  },
  {
   "cell_type": "code",
   "execution_count": 7,
   "metadata": {},
   "outputs": [
    {
     "name": "stdout",
     "output_type": "stream",
     "text": [
      "('kunal', 'sagar', 'varun')\n",
      "(1, 2, 3)\n",
      "(30, 40, 50)\n"
     ]
    }
   ],
   "source": [
    "z1,z2,z3 = zip(*resultlist)\n",
    "print(z1)\n",
    "print(z2)\n",
    "print(z3)"
   ]
  }
 ],
 "metadata": {
  "kernelspec": {
   "display_name": "Python 3",
   "language": "python",
   "name": "python3"
  },
  "language_info": {
   "codemirror_mode": {
    "name": "ipython",
    "version": 3
   },
   "file_extension": ".py",
   "mimetype": "text/x-python",
   "name": "python",
   "nbconvert_exporter": "python",
   "pygments_lexer": "ipython3",
   "version": "3.6.5"
  }
 },
 "nbformat": 4,
 "nbformat_minor": 2
}
